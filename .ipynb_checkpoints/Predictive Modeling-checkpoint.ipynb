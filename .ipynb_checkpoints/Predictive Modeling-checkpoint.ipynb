{
 "cells": [
  {
   "cell_type": "code",
   "execution_count": 1,
   "id": "6e50fad1",
   "metadata": {},
   "outputs": [],
   "source": [
    "import warnings\n",
    "warnings.filterwarnings(\"ignore\")\n",
    "\n",
    "import os\n",
    "import pandas as pd\n",
    "import numpy as np\n",
    "import matplotlib.pyplot as plt\n",
    "\n",
    "np.random.seed(0)   "
   ]
  },
  {
   "cell_type": "code",
   "execution_count": null,
   "id": "f5f713ff",
   "metadata": {},
   "outputs": [],
   "source": [
    "def engagement_model():\n",
    "\n",
    "    from sklearn.svm import SVC\n",
    "    from sklearn.model_selection import train_test_split, GridSearchCV\n",
    "    from sklearn.preprocessing import StandardScaler\n",
    "\n",
    "    from sklearn.metrics import roc_curve, auc, roc_auc_score\n",
    "    import matplotlib.pyplot as plt\n",
    "\n",
    "\n",
    "    rec = None\n",
    "    train_data= pd.read_csv('train.csv')\n",
    "    test_data= pd.read_csv('test.csv')\n",
    "    # test_data_submit= pd.read_csv('readonly/test.csv')\n",
    "    df_train= pd.DataFrame(train_data)\n",
    "    df_test= pd.DataFrame(test_data)\n",
    "    # df_test_submit= pd.DataFrame(test_data_submit)\n",
    "        # YOUR CODE HERE\n",
    "    X_train_df=df_train.iloc[:,:-1]\n",
    "    y_train=df_train.iloc[:,-1]\n",
    "\n",
    "    X_test_df=df_test.iloc[:,:]\n",
    "\n",
    "    scaler = StandardScaler()\n",
    "\n",
    "\n",
    "    X_train = scaler.fit_transform(X_train_df)\n",
    "    X_test = scaler.transform(X_test_df)\n",
    "    # X_test_submit = scaler.transform(X_test_df)\n",
    "\n",
    "    param_grid = {'C': [0.1, 1], 'gamma': [0.01, 0.1]}\n",
    "\n",
    "    svm_classifier = SVC(kernel='rbf', probability=True)\n",
    "\n",
    "    grid_search = GridSearchCV(svm_classifier, param_grid, cv=3, scoring='roc_auc')\n",
    "    grid_search.fit(X_train, y_train)\n",
    "\n",
    "    # Train the classifier on the training data\n",
    "    best_svm_model = grid_search.best_estimator_\n",
    "\n",
    "    # rec = roc_auc_score(y_test, best_svm_model.predict_proba(X_test)[:, 1])\n",
    "    \n",
    "    predictions = best_svm_model.decision_function(X_test)\n",
    "    X_series= X_test_df['id']\n",
    "    y_series = pd.Series(predictions)\n",
    "    # # combined_series = pd.concat([series1, series2], axis=1)\n",
    "    combined_df = pd.concat([X_series,y_series], axis=1)\n",
    "    series_from_df = pd.Series(data=combined_df[0].values, index=combined_df['id'])\n",
    "    \n",
    "    return  series_from_df\n",
    "    # return rec\n",
    "engagement_model()"
   ]
  },
  {
   "cell_type": "code",
   "execution_count": null,
   "id": "bf802039",
   "metadata": {},
   "outputs": [],
   "source": []
  }
 ],
 "metadata": {
  "kernelspec": {
   "display_name": "Python 3 (ipykernel)",
   "language": "python",
   "name": "python3"
  },
  "language_info": {
   "codemirror_mode": {
    "name": "ipython",
    "version": 3
   },
   "file_extension": ".py",
   "mimetype": "text/x-python",
   "name": "python",
   "nbconvert_exporter": "python",
   "pygments_lexer": "ipython3",
   "version": "3.10.9"
  }
 },
 "nbformat": 4,
 "nbformat_minor": 5
}
